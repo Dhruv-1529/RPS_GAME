{
 "cells": [
  {
   "cell_type": "code",
   "execution_count": 1,
   "id": "5495a30a-ab10-4c23-a4bb-f295c770e79a",
   "metadata": {},
   "outputs": [
    {
     "name": "stdin",
     "output_type": "stream",
     "text": [
      "enter your choice (rock, paper ,or scissors):: stone\n"
     ]
    },
    {
     "name": "stdout",
     "output_type": "stream",
     "text": [
      "computer choice:rock\n",
      "your choice:stone\n",
      "you hane select tha wrong option\n"
     ]
    },
    {
     "name": "stdin",
     "output_type": "stream",
     "text": [
      "Do you want to play again? (yes/no):: yes\n",
      "enter your choice (rock, paper ,or scissors):: paper\n"
     ]
    },
    {
     "name": "stdout",
     "output_type": "stream",
     "text": [
      "computer choice:paper\n",
      "your choice:paper\n",
      "it's a tie\n"
     ]
    },
    {
     "name": "stdin",
     "output_type": "stream",
     "text": [
      "Do you want to play again? (yes/no):: no\n"
     ]
    },
    {
     "name": "stdout",
     "output_type": "stream",
     "text": [
      "Thanks for playing!\n"
     ]
    }
   ],
   "source": [
    "#task no.4 game of (rock/paper/scissors)\n",
    "import random\n",
    "while True:\n",
    "    computer=random.choice([\"rock\",\"paper\",\"scissors\"])\n",
    "    user_input=input(\"enter your choice (rock, paper ,or scissors)::\")\n",
    "    print(f\"computer choice:{computer}\")\n",
    "    print(f\"your choice:{user_input}\")\n",
    "    if(computer==user_input):\n",
    "           print(\"it's a tie\")\n",
    "    else:\n",
    "        if(computer==\"rock\" and user_input==\"paper\"):\n",
    "            print(\"you win\")\n",
    "        elif(computer==\"rock\" and user_input==\"scissors\"):\n",
    "            print(\"you lose\")    \n",
    "        elif(computer==\"paper\" and user_input==\"scissors\"):\n",
    "            print(\"you win\") \n",
    "        elif(computer==\"paper\" and user_input==\"rock\"):\n",
    "            print(\"you lose\") \n",
    "        elif(computer==\"scissors\" and user_input==\"paper\"):\n",
    "            print(\"you lose\") \n",
    "        elif(computer==\"scissors\" and user_input==\"rock\"):\n",
    "            print(\"you win\")\n",
    "        else:\n",
    "            print(\"you hane select tha wrong option\")\n",
    "        \n",
    "\n",
    "    play_again=input(\"Do you want to play again? (yes/no)::\")\n",
    "    if play_again != \"yes\":\n",
    "        print(\"Thanks for playing!\")\n",
    "        break \n"
   ]
  },
  {
   "cell_type": "code",
   "execution_count": 71,
   "id": "cb903e9d-bb39-4dde-9c0f-ee2ceb750377",
   "metadata": {},
   "outputs": [
    {
     "name": "stdin",
     "output_type": "stream",
     "text": [
      "Enter the length of the password:  12\n"
     ]
    },
    {
     "name": "stdout",
     "output_type": "stream",
     "text": [
      "Generated password: )9$7XtEu+s<d\n"
     ]
    }
   ],
   "source": [
    "# task no.3 generating a password\n",
    "import random\n",
    "import string\n",
    "user = int(input(\"Enter the length of the password: \"))\n",
    "characters = string.ascii_letters + string.digits + string.punctuation\n",
    "password = ''.join(random.choice(characters) for i in range(user))\n",
    "print(f\" your password is: {password}\")\n",
    "\n"
   ]
  },
  {
   "cell_type": "code",
   "execution_count": 45,
   "id": "4d6db20a-a014-4031-99c9-de3cf67ff751",
   "metadata": {},
   "outputs": [
    {
     "name": "stdin",
     "output_type": "stream",
     "text": [
      "Enter tha first number:  5\n",
      "Enter tha second numbre:  5\n",
      "Enter tha Algebric operaton:  *\n"
     ]
    },
    {
     "name": "stdout",
     "output_type": "stream",
     "text": [
      "Product of tha no. is 5 * 5=25\n"
     ]
    }
   ],
   "source": [
    "# task no.2 CALCULATOR**\n",
    "first_num=int(input(\"Enter the first number: \"))\n",
    "second_num=int(input(\"Enter the second numbre: \"))\n",
    "operation=input(\"Enter the Algebric operaton: \")\n",
    "if(operation==\"+\"):\n",
    "    print(f\"Sum of tha no. is{first_num} + {second_num}={first_num + second_num}\")\n",
    "elif(operation==\"-\"):\n",
    "    print(f\"Subtraction of tha no. is {first_num} - {second_num} = {first_num - second_num}\")\n",
    "elif(operation==\"*\"):\n",
    "    print(f\"Product of tha no. is {first_num} * {second_num} = {first_num * second_num}\")\n",
    "elif(operation==\"/\"):\n",
    "    print(f\"Division of tha no. is {first_num} / {second_num} = {first_num / second_num}\")\n",
    "\n"
   ]
  },
  {
   "cell_type": "code",
   "execution_count": null,
   "id": "1d062c52-4482-4fea-b7df-eed58c2492df",
   "metadata": {},
   "outputs": [],
   "source": [
    "# task 1 todo list\n",
    "list[]"
   ]
  }
 ],
 "metadata": {
  "kernelspec": {
   "display_name": "Python [conda env:base] *",
   "language": "python",
   "name": "conda-base-py"
  },
  "language_info": {
   "codemirror_mode": {
    "name": "ipython",
    "version": 3
   },
   "file_extension": ".py",
   "mimetype": "text/x-python",
   "name": "python",
   "nbconvert_exporter": "python",
   "pygments_lexer": "ipython3",
   "version": "3.12.7"
  }
 },
 "nbformat": 4,
 "nbformat_minor": 5
}
